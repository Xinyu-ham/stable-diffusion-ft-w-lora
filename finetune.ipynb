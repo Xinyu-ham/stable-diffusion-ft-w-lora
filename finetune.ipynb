{
 "cells": [
  {
   "cell_type": "code",
   "execution_count": 3,
   "metadata": {},
   "outputs": [],
   "source": [
    "from accelerate import Accelerator\n",
    "from preprocess import prepare_dataset\n",
    "from torch.utils.data import Dataset, DataLoader\n",
    "from torchvision import transforms\n",
    "import torch, os\n",
    "from PIL import Image\n",
    "from datasets import load_dataset"
   ]
  },
  {
   "cell_type": "code",
   "execution_count": 4,
   "metadata": {},
   "outputs": [],
   "source": [
    "RAW_DATA_DIR = 'data/raw'\n",
    "ROOT = 'data'\n",
    "IMG_DIM = 500\n",
    "\n",
    "accelerator = Accelerator()\n",
    "\n",
    "prepare_dataset(RAW_DATA_DIR, ROOT, IMG_DIM, split=False)"
   ]
  },
  {
   "cell_type": "code",
   "execution_count": 7,
   "metadata": {},
   "outputs": [
    {
     "name": "stderr",
     "output_type": "stream",
     "text": [
      "Resolving data files: 100%|██████████| 63/63 [00:00<?, ?it/s]\n",
      "Found cached dataset imagefolder (C:/Users/Xin Yu/.cache/huggingface/datasets/imagefolder/default-bcc810cab2b6bd3a/0.0.0/37fbb85cc714a338bea574ac6c7d0b5be5aff46c1862c1989b20e0771199e93f)\n",
      "100%|██████████| 1/1 [00:00<00:00, 1000.55it/s]\n"
     ]
    },
    {
     "data": {
      "text/plain": [
       "DatasetDict({\n",
       "    train: Dataset({\n",
       "        features: ['image', 'text'],\n",
       "        num_rows: 62\n",
       "    })\n",
       "})"
      ]
     },
     "execution_count": 7,
     "metadata": {},
     "output_type": "execute_result"
    }
   ],
   "source": [
    "from datasets import load_dataset\n",
    "train_set = load_dataset(\n",
    "    \"imagefolder\",\n",
    "    data_files=os.path.join('data/train', \"**\"),\n",
    "    cache_dir=None\n",
    ")\n"
   ]
  },
  {
   "cell_type": "code",
   "execution_count": 48,
   "metadata": {},
   "outputs": [
    {
     "data": {
      "text/plain": [
       "'accelerate launch --mixed_precision=\"fp16\"  train.py --pretrained_model_name_or_path=\"runwayml/stable-diffusion-v1-5\" --dataset_name=\"imagefolder\" --train_data_dir=\"C:/Users/Xin Yu/Desktop/data_science/stable-diffusion-ft-w-lora/data/train\" --dataloader_num_workers=0 --resolution=500 --center_crop --random_flip --train_batch_size=2 --gradient_accumulation_steps=4 --max_train_steps=500 --learning_rate=1e-04 --max_grad_norm=1 --lr_scheduler=\"cosine\" --lr_warmup_steps=0 --output_dir=\"C:/Users/Xin Yu/Desktop/data_science/stable-diffusion-ft-w-lora/output\" --checkpointing_steps=500 --validation_prompt=\"Milk tea the cat\" --seed=1337'"
      ]
     },
     "execution_count": 48,
     "metadata": {},
     "output_type": "execute_result"
    }
   ],
   "source": [
    "cmd = '''accelerate launch --mixed_precision=\"fp16\"  train.py \\\n",
    "--pretrained_model_name_or_path=\"runwayml/stable-diffusion-v1-5\" \\\n",
    "--dataset_name=\"imagefolder\" \\\n",
    "--train_data_dir=\"C:/Users/Xin Yu/Desktop/data_science/stable-diffusion-ft-w-lora/data/train\" \\\n",
    "--dataloader_num_workers=0 \\\n",
    "--resolution=500 \\\n",
    "--center_crop \\\n",
    "--random_flip \\\n",
    "--train_batch_size=2 \\\n",
    "--gradient_accumulation_steps=4 \\\n",
    "--max_train_steps=500 \\\n",
    "--learning_rate=1e-04 \\\n",
    "--max_grad_norm=1 \\\n",
    "--lr_scheduler=\"cosine\" --lr_warmup_steps=0 \\\n",
    "--output_dir=\"C:/Users/Xin Yu/Desktop/data_science/stable-diffusion-ft-w-lora/output\" \\\n",
    "--checkpointing_steps=500 \\\n",
    "--validation_prompt=\"Milk tea the cat\" \\\n",
    "--validation_epochs=4 \\\n",
    "--seed=1337'''\n",
    "cmd.replace('\\\\\\n', '')"
   ]
  },
  {
   "cell_type": "code",
   "execution_count": 49,
   "metadata": {},
   "outputs": [],
   "source": [
    "# import torch\n",
    "# from diffusers import StableDiffusionPipeline, DPMSolverMultistepScheduler\n",
    "\n",
    "# pipe = StableDiffusionPipeline.from_pretrained(\"runwayml/stable-diffusion-v1-5\", torch_dtype=torch.float16, safety_checker=None)\n",
    "# pipe.scheduler = DPMSolverMultistepScheduler.from_config(pipe.scheduler.config)\n",
    "# pipe.unet.load_attn_procs('output/pytorch_lora_weights.bin')\n",
    "# pipe.to(\"cuda\")"
   ]
  },
  {
   "cell_type": "code",
   "execution_count": 50,
   "metadata": {},
   "outputs": [],
   "source": [
    "# prompt = 'Milk Tea the cat.'\n",
    "# image = pipe(prompt, num_inference_steps=50).images[0]\n",
    "# image.show()"
   ]
  },
  {
   "cell_type": "code",
   "execution_count": null,
   "metadata": {},
   "outputs": [],
   "source": []
  }
 ],
 "metadata": {
  "kernelspec": {
   "display_name": "base",
   "language": "python",
   "name": "python3"
  },
  "language_info": {
   "codemirror_mode": {
    "name": "ipython",
    "version": 3
   },
   "file_extension": ".py",
   "mimetype": "text/x-python",
   "name": "python",
   "nbconvert_exporter": "python",
   "pygments_lexer": "ipython3",
   "version": "3.9.7"
  },
  "orig_nbformat": 4
 },
 "nbformat": 4,
 "nbformat_minor": 2
}
